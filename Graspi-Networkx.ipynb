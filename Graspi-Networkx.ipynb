{
 "cells": [
  {
   "cell_type": "code",
   "execution_count": 24,
   "id": "fc44290d-4282-4bad-887f-abb2ec531005",
   "metadata": {},
   "outputs": [
    {
     "name": "stderr",
     "output_type": "stream",
     "text": [
      "\n",
      "[notice] A new release of pip is available: 23.2.1 -> 24.2\n",
      "[notice] To update, run: python.exe -m pip install --upgrade pip\n"
     ]
    },
    {
     "name": "stdout",
     "output_type": "stream",
     "text": [
      "Requirement already satisfied: graspi-networkx==0.3.1 in c:\\users\\manla\\pycharmprojects\\networkx_graspi_testing\\.venv\\lib\\site-packages (0.3.1)\n",
      "Requirement already satisfied: contourpy in c:\\users\\manla\\pycharmprojects\\networkx_graspi_testing\\.venv\\lib\\site-packages (from graspi-networkx==0.3.1) (1.1.0)\n",
      "Requirement already satisfied: cycler in c:\\users\\manla\\pycharmprojects\\networkx_graspi_testing\\.venv\\lib\\site-packages (from graspi-networkx==0.3.1) (0.12.1)\n",
      "Requirement already satisfied: fonttools in c:\\users\\manla\\pycharmprojects\\networkx_graspi_testing\\.venv\\lib\\site-packages (from graspi-networkx==0.3.1) (4.54.1)\n",
      "Requirement already satisfied: kiwisolver in c:\\users\\manla\\pycharmprojects\\networkx_graspi_testing\\.venv\\lib\\site-packages (from graspi-networkx==0.3.1) (1.4.7)\n",
      "Requirement already satisfied: matplotlib in c:\\users\\manla\\pycharmprojects\\networkx_graspi_testing\\.venv\\lib\\site-packages (from graspi-networkx==0.3.1) (3.7.5)\n",
      "Requirement already satisfied: networkx in c:\\users\\manla\\pycharmprojects\\networkx_graspi_testing\\.venv\\lib\\site-packages (from graspi-networkx==0.3.1) (3.1)\n",
      "Requirement already satisfied: numpy in c:\\users\\manla\\pycharmprojects\\networkx_graspi_testing\\.venv\\lib\\site-packages (from graspi-networkx==0.3.1) (1.24.4)\n",
      "Requirement already satisfied: packaging in c:\\users\\manla\\pycharmprojects\\networkx_graspi_testing\\.venv\\lib\\site-packages (from graspi-networkx==0.3.1) (24.1)\n",
      "Requirement already satisfied: pandas in c:\\users\\manla\\pycharmprojects\\networkx_graspi_testing\\.venv\\lib\\site-packages (from graspi-networkx==0.3.1) (2.0.3)\n",
      "Requirement already satisfied: pillow in c:\\users\\manla\\pycharmprojects\\networkx_graspi_testing\\.venv\\lib\\site-packages (from graspi-networkx==0.3.1) (10.4.0)\n",
      "Requirement already satisfied: pyparsing in c:\\users\\manla\\pycharmprojects\\networkx_graspi_testing\\.venv\\lib\\site-packages (from graspi-networkx==0.3.1) (3.1.4)\n",
      "Requirement already satisfied: python-dateutil in c:\\users\\manla\\pycharmprojects\\networkx_graspi_testing\\.venv\\lib\\site-packages (from graspi-networkx==0.3.1) (2.9.0.post0)\n",
      "Requirement already satisfied: pytz in c:\\users\\manla\\pycharmprojects\\networkx_graspi_testing\\.venv\\lib\\site-packages (from graspi-networkx==0.3.1) (2024.2)\n",
      "Requirement already satisfied: six in c:\\users\\manla\\pycharmprojects\\networkx_graspi_testing\\.venv\\lib\\site-packages (from graspi-networkx==0.3.1) (1.16.0)\n",
      "Requirement already satisfied: tzdata in c:\\users\\manla\\pycharmprojects\\networkx_graspi_testing\\.venv\\lib\\site-packages (from graspi-networkx==0.3.1) (2024.2)\n",
      "Requirement already satisfied: importlib-resources>=3.2.0 in c:\\users\\manla\\pycharmprojects\\networkx_graspi_testing\\.venv\\lib\\site-packages (from matplotlib->graspi-networkx==0.3.1) (6.4.5)\n",
      "Requirement already satisfied: zipp>=3.1.0 in c:\\users\\manla\\pycharmprojects\\networkx_graspi_testing\\.venv\\lib\\site-packages (from importlib-resources>=3.2.0->matplotlib->graspi-networkx==0.3.1) (3.20.2)\n"
     ]
    }
   ],
   "source": [
    "!pip install graspi-networkx==0.3.1"
   ]
  },
  {
   "cell_type": "markdown",
   "id": "38cf8141-0fc0-4bd1-bd13-67907ea65e3b",
   "metadata": {},
   "source": [
    "Ensure that the package is successfully installed"
   ]
  },
  {
   "cell_type": "code",
   "execution_count": 25,
   "id": "b604f114-d9d1-4ea7-b3ab-921c494ba0a7",
   "metadata": {},
   "outputs": [
    {
     "name": "stdout",
     "output_type": "stream",
     "text": [
      "Name: graspi-networkx\n",
      "Version: 0.3.1\n",
      "Summary: A package that utilizes NetworkX functionality for GraSPI\n",
      "Home-page: https://github.com/gobrin111/graspi_networkx\n",
      "Author: Qi Pan\n",
      "Author-email: mleung8@buffalo.edu\n",
      "License: \n",
      "Location: c:\\users\\manla\\pycharmprojects\\networkx_graspi_testing\\.venv\\lib\\site-packages\n",
      "Requires: contourpy, cycler, fonttools, kiwisolver, matplotlib, networkx, numpy, packaging, pandas, pillow, pyparsing, python-dateutil, pytz, six, tzdata\n",
      "Required-by: \n"
     ]
    }
   ],
   "source": [
    "!pip show graspi_networkx"
   ]
  },
  {
   "cell_type": "markdown",
   "id": "198f0ac2-41f5-4e28-b417-5ebbc3fcd7bf",
   "metadata": {},
   "source": [
    "Import the necessary packages"
   ]
  },
  {
   "cell_type": "code",
   "execution_count": 26,
   "id": "8dff0815-bb90-45d0-aa4d-43e73b271053",
   "metadata": {},
   "outputs": [],
   "source": [
    "import graspi_networkx as gn\n",
    "import networkx as nx\n",
    "import matplotlib.pyplot as plt"
   ]
  },
  {
   "cell_type": "markdown",
   "id": "9fe58a75-4f19-4607-8fb3-80853c86cb41",
   "metadata": {},
   "source": [
    "Graph Creation"
   ]
  },
  {
   "cell_type": "code",
   "execution_count": 27,
   "id": "c5b0b30a-9d4b-4c6a-bde3-8a9455d244b7",
   "metadata": {},
   "outputs": [
    {
     "name": "stdout",
     "output_type": "stream",
     "text": [
      "Nodes: [0, 1, 2, 3, 4, 5, 6, 7, 8, 9, 10, 11, 12, 13, 14, 15, 16, 17, 18, 19, 20, 21, 22, 23, 24, 25, 26, 27, 28, 29, 30, 31, 32, 33, 34, 35, 36, 37, 38, 39, 40, 41, 42, 43, 44, 45, 46, 47, 48, 49, 50, 51, 52, 53, 54, 55, 56, 57, 58, 59, 60, 61, 62, 63, 64, 65, 66, 67, 68, 69, 70, 71, 72, 73, 74, 75, 76, 77, 78, 79, 80, 81, 82, 83, 84, 85, 86, 87, 88, 89, 90, 91, 92, 93, 94, 95, 96, 97, 98, 99, 100, 101]\n",
      "Edges: [(0, 1), (0, 10), (0, 11), (0, 100), (1, 2), (1, 10), (1, 11), (1, 12), (1, 100), (2, 3), (2, 11), (2, 12), (2, 13), (2, 100), (3, 4), (3, 12), (3, 13), (3, 14), (3, 100), (4, 5), (4, 13), (4, 14), (4, 15), (4, 100), (5, 6), (5, 14), (5, 15), (5, 16), (5, 100), (6, 7), (6, 15), (6, 16), (6, 17), (6, 100), (7, 8), (7, 16), (7, 17), (7, 18), (7, 100), (8, 9), (8, 17), (8, 18), (8, 19), (8, 100), (9, 18), (9, 19), (9, 100), (10, 11), (10, 20), (10, 21), (11, 12), (11, 20), (11, 21), (11, 22), (12, 13), (12, 21), (12, 22), (12, 23), (13, 14), (13, 22), (13, 23), (13, 24), (14, 15), (14, 23), (14, 24), (14, 25), (15, 16), (15, 24), (15, 25), (15, 26), (16, 17), (16, 25), (16, 26), (16, 27), (17, 18), (17, 26), (17, 27), (17, 28), (18, 19), (18, 27), (18, 28), (18, 29), (19, 28), (19, 29), (20, 21), (20, 30), (20, 31), (21, 22), (21, 30), (21, 31), (21, 32), (22, 23), (22, 31), (22, 32), (22, 33), (23, 24), (23, 32), (23, 33), (23, 34), (24, 25), (24, 33), (24, 34), (24, 35), (25, 26), (25, 34), (25, 35), (25, 36), (26, 27), (26, 35), (26, 36), (26, 37), (27, 28), (27, 36), (27, 37), (27, 38), (28, 29), (28, 37), (28, 38), (28, 39), (29, 38), (29, 39), (30, 31), (30, 40), (30, 41), (31, 32), (31, 40), (31, 41), (31, 42), (32, 33), (32, 41), (32, 42), (32, 43), (33, 34), (33, 42), (33, 43), (33, 44), (34, 35), (34, 43), (34, 44), (34, 45), (35, 36), (35, 44), (35, 45), (35, 46), (36, 37), (36, 45), (36, 46), (36, 47), (37, 38), (37, 46), (37, 47), (37, 48), (38, 39), (38, 47), (38, 48), (38, 49), (39, 48), (39, 49), (40, 41), (40, 50), (40, 51), (41, 42), (41, 50), (41, 51), (41, 52), (42, 43), (42, 51), (42, 52), (42, 53), (43, 44), (43, 52), (43, 53), (43, 54), (44, 45), (44, 53), (44, 54), (44, 55), (45, 46), (45, 54), (45, 55), (45, 56), (46, 47), (46, 55), (46, 56), (46, 57), (47, 48), (47, 56), (47, 57), (47, 58), (48, 49), (48, 57), (48, 58), (48, 59), (49, 58), (49, 59), (50, 51), (50, 60), (50, 61), (51, 52), (51, 60), (51, 61), (51, 62), (52, 53), (52, 61), (52, 62), (52, 63), (53, 54), (53, 62), (53, 63), (53, 64), (54, 55), (54, 63), (54, 64), (54, 65), (55, 56), (55, 64), (55, 65), (55, 66), (56, 57), (56, 65), (56, 66), (56, 67), (57, 58), (57, 66), (57, 67), (57, 68), (58, 59), (58, 67), (58, 68), (58, 69), (59, 68), (59, 69), (60, 61), (60, 70), (60, 71), (61, 62), (61, 70), (61, 71), (61, 72), (62, 63), (62, 71), (62, 72), (62, 73), (63, 64), (63, 72), (63, 73), (63, 74), (64, 65), (64, 73), (64, 74), (64, 75), (65, 66), (65, 74), (65, 75), (65, 76), (66, 67), (66, 75), (66, 76), (66, 77), (67, 68), (67, 76), (67, 77), (67, 78), (68, 69), (68, 77), (68, 78), (68, 79), (69, 78), (69, 79), (70, 71), (70, 80), (70, 81), (71, 72), (71, 80), (71, 81), (71, 82), (72, 73), (72, 81), (72, 82), (72, 83), (73, 74), (73, 82), (73, 83), (73, 84), (74, 75), (74, 83), (74, 84), (74, 85), (75, 76), (75, 84), (75, 85), (75, 86), (76, 77), (76, 85), (76, 86), (76, 87), (77, 78), (77, 86), (77, 87), (77, 88), (78, 79), (78, 87), (78, 88), (78, 89), (79, 88), (79, 89), (80, 81), (80, 90), (80, 91), (81, 82), (81, 90), (81, 91), (81, 92), (82, 83), (82, 91), (82, 92), (82, 93), (83, 84), (83, 92), (83, 93), (83, 94), (84, 85), (84, 93), (84, 94), (84, 95), (85, 86), (85, 94), (85, 95), (85, 96), (86, 87), (86, 95), (86, 96), (86, 97), (87, 88), (87, 96), (87, 97), (87, 98), (88, 89), (88, 97), (88, 98), (88, 99), (89, 98), (89, 99), (90, 91), (90, 101), (91, 92), (91, 101), (92, 93), (92, 101), (93, 94), (93, 101), (94, 95), (94, 101), (95, 96), (95, 101), (96, 97), (96, 101), (97, 98), (97, 101), (98, 99), (98, 101), (99, 101)]\n"
     ]
    }
   ],
   "source": [
    "    G = gn.createGraph(\"./testFiles/10x10.txt\")\n",
    "    print(\"Nodes:\", G.nodes())\n",
    "    print(\"Edges:\", G.edges())"
   ]
  },
  {
   "cell_type": "markdown",
   "id": "fed80413-4b51-46ef-a453-198f922b3a8b",
   "metadata": {},
   "source": [
    "Graph Filtering"
   ]
  },
  {
   "cell_type": "code",
   "execution_count": 28,
   "id": "829d032b-d207-4105-80e7-c722a7d174ac",
   "metadata": {},
   "outputs": [
    {
     "name": "stdout",
     "output_type": "stream",
     "text": [
      "Subgraph Nodes: [0, 1, 2, 3, 4, 5, 6, 7, 8, 9, 10, 11, 12, 13, 14, 15, 16, 17, 18, 19, 20, 21, 22, 23, 24, 25, 26, 27, 28, 29, 30, 31, 32, 33, 34, 35, 36, 37, 38, 39, 40, 41, 42, 43, 44, 45, 46, 47, 48, 49, 50, 51, 52, 53, 54, 55, 56, 57, 58, 59, 60, 61, 62, 63, 64, 65, 66, 67, 68, 69, 70, 71, 72, 73, 74, 75, 76, 77, 78, 79, 80, 81, 82, 83, 84, 85, 86, 87, 88, 89, 90, 91, 92, 93, 94, 95, 96, 97, 98, 99, 100, 101]\n",
      "Subgraph Edges: [(0, 1), (0, 10), (0, 11), (0, 100), (1, 2), (1, 10), (1, 11), (1, 12), (1, 100), (2, 3), (2, 11), (2, 12), (2, 13), (2, 100), (3, 4), (3, 12), (3, 13), (3, 14), (3, 100), (4, 5), (4, 13), (4, 14), (4, 15), (4, 100), (5, 6), (5, 14), (5, 15), (5, 16), (5, 100), (6, 7), (6, 15), (6, 16), (6, 17), (6, 100), (7, 8), (7, 16), (7, 17), (7, 18), (7, 100), (8, 9), (8, 17), (8, 18), (8, 19), (8, 100), (9, 18), (9, 19), (9, 100), (10, 11), (10, 20), (10, 21), (11, 12), (11, 20), (11, 21), (11, 22), (12, 13), (12, 21), (12, 22), (12, 23), (13, 14), (13, 22), (13, 23), (13, 24), (14, 15), (14, 23), (14, 24), (14, 25), (15, 16), (15, 24), (15, 25), (15, 26), (16, 17), (16, 25), (16, 26), (16, 27), (17, 18), (17, 26), (17, 27), (17, 28), (18, 19), (18, 27), (18, 28), (18, 29), (19, 28), (19, 29), (20, 21), (20, 30), (20, 31), (21, 22), (21, 30), (21, 31), (21, 32), (22, 23), (22, 31), (22, 32), (22, 33), (23, 24), (23, 32), (23, 33), (23, 34), (24, 25), (24, 33), (24, 34), (24, 35), (25, 26), (25, 34), (25, 35), (25, 36), (26, 27), (26, 35), (26, 36), (26, 37), (27, 28), (27, 36), (27, 37), (27, 38), (28, 29), (28, 37), (28, 38), (28, 39), (29, 38), (29, 39), (30, 31), (30, 40), (30, 41), (31, 32), (31, 40), (31, 41), (31, 42), (32, 33), (32, 41), (32, 42), (32, 43), (33, 34), (33, 42), (33, 43), (33, 44), (34, 35), (34, 43), (34, 44), (34, 45), (35, 36), (35, 44), (35, 45), (35, 46), (36, 37), (36, 45), (36, 46), (36, 47), (37, 38), (37, 46), (37, 47), (37, 48), (38, 39), (38, 47), (38, 48), (38, 49), (39, 48), (39, 49), (40, 41), (41, 42), (42, 43), (43, 44), (44, 45), (45, 46), (46, 47), (47, 48), (48, 49), (50, 51), (50, 60), (50, 61), (51, 52), (51, 60), (51, 61), (51, 62), (52, 53), (52, 61), (52, 62), (52, 63), (53, 54), (53, 62), (53, 63), (53, 64), (54, 55), (54, 63), (54, 64), (54, 65), (55, 56), (55, 64), (55, 65), (55, 66), (56, 57), (56, 65), (56, 66), (56, 67), (57, 58), (57, 66), (57, 67), (57, 68), (58, 59), (58, 67), (58, 68), (58, 69), (59, 68), (59, 69), (60, 61), (60, 70), (60, 71), (61, 62), (61, 70), (61, 71), (61, 72), (62, 63), (62, 71), (62, 72), (62, 73), (63, 64), (63, 72), (63, 73), (63, 74), (64, 65), (64, 73), (64, 74), (64, 75), (65, 66), (65, 74), (65, 75), (65, 76), (66, 67), (66, 75), (66, 76), (66, 77), (67, 68), (67, 76), (67, 77), (67, 78), (68, 69), (68, 77), (68, 78), (68, 79), (69, 78), (69, 79), (70, 71), (70, 80), (70, 81), (71, 72), (71, 80), (71, 81), (71, 82), (72, 73), (72, 81), (72, 82), (72, 83), (73, 74), (73, 82), (73, 83), (73, 84), (74, 75), (74, 83), (74, 84), (74, 85), (75, 76), (75, 84), (75, 85), (75, 86), (76, 77), (76, 85), (76, 86), (76, 87), (77, 78), (77, 86), (77, 87), (77, 88), (78, 79), (78, 87), (78, 88), (78, 89), (79, 88), (79, 89), (80, 81), (80, 90), (80, 91), (81, 82), (81, 90), (81, 91), (81, 92), (82, 83), (82, 91), (82, 92), (82, 93), (83, 84), (83, 92), (83, 93), (83, 94), (84, 85), (84, 93), (84, 94), (84, 95), (85, 86), (85, 94), (85, 95), (85, 96), (86, 87), (86, 95), (86, 96), (86, 97), (87, 88), (87, 96), (87, 97), (87, 98), (88, 89), (88, 97), (88, 98), (88, 99), (89, 98), (89, 99), (90, 91), (90, 101), (91, 92), (91, 101), (92, 93), (92, 101), (93, 94), (93, 101), (94, 95), (94, 101), (95, 96), (95, 101), (96, 97), (96, 101), (97, 98), (97, 101), (98, 99), (98, 101), (99, 101)]\n"
     ]
    }
   ],
   "source": [
    "    filteredGraph = gn.filterGraph(G)\n",
    "    print(\"Subgraph Nodes:\", filteredGraph.nodes())\n",
    "    print(\"Subgraph Edges:\", filteredGraph.edges())"
   ]
  },
  {
   "cell_type": "markdown",
   "id": "85104fc0-b853-46c3-a734-1c1fd928d3ce",
   "metadata": {},
   "source": [
    "BFS (All black nodes to red vertice)"
   ]
  },
  {
   "cell_type": "code",
   "execution_count": 29,
   "id": "21bbf6e9-2de7-449a-901b-4b8173e40705",
   "metadata": {},
   "outputs": [
    {
     "name": "stdout",
     "output_type": "stream",
     "text": [
      "BFS: {101: [101], 90: [101, 90], 91: [101, 91], 92: [101, 92], 93: [101, 93], 94: [101, 94], 95: [101, 95], 96: [101, 96], 97: [101, 97], 98: [101, 98], 99: [101, 99], 80: [101, 90, 80], 81: [101, 90, 81], 82: [101, 91, 82], 83: [101, 92, 83], 84: [101, 93, 84], 85: [101, 94, 85], 86: [101, 95, 86], 87: [101, 96, 87], 88: [101, 97, 88], 89: [101, 98, 89], 70: [101, 90, 80, 70], 71: [101, 90, 80, 71], 72: [101, 90, 81, 72], 73: [101, 91, 82, 73], 74: [101, 92, 83, 74], 75: [101, 93, 84, 75], 76: [101, 94, 85, 76], 77: [101, 95, 86, 77], 78: [101, 96, 87, 78], 79: [101, 97, 88, 79], 60: [101, 90, 80, 70, 60], 61: [101, 90, 80, 70, 61], 62: [101, 90, 80, 71, 62], 63: [101, 90, 81, 72, 63], 64: [101, 91, 82, 73, 64], 65: [101, 92, 83, 74, 65], 66: [101, 93, 84, 75, 66], 67: [101, 94, 85, 76, 67], 68: [101, 95, 86, 77, 68], 69: [101, 96, 87, 78, 69], 50: [101, 90, 80, 70, 60, 50], 51: [101, 90, 80, 70, 60, 51], 52: [101, 90, 80, 70, 61, 52], 53: [101, 90, 80, 71, 62, 53], 54: [101, 90, 81, 72, 63, 54], 55: [101, 91, 82, 73, 64, 55], 56: [101, 92, 83, 74, 65, 56], 57: [101, 93, 84, 75, 66, 57], 58: [101, 94, 85, 76, 67, 58], 59: [101, 95, 86, 77, 68, 59]}\n"
     ]
    }
   ],
   "source": [
    "    numNodes = G.number_of_nodes()\n",
    "    bfs = gn.bfs(filteredGraph, numNodes-1)\n",
    "    print(\"BFS:\", bfs)"
   ]
  },
  {
   "cell_type": "markdown",
   "id": "b2583506-d989-4d82-ae5b-8c3763d277ee",
   "metadata": {},
   "source": [
    "Visualization"
   ]
  },
  {
   "cell_type": "code",
   "execution_count": 30,
   "id": "8603e44c-4cf3-4135-9ba5-56098f597581",
   "metadata": {},
   "outputs": [
    {
     "ename": "AttributeError",
     "evalue": "module 'graspi_networkx' has no attribute 'plotGraph'",
     "output_type": "error",
     "traceback": [
      "\u001b[1;31m---------------------------------------------------------------------------\u001b[0m",
      "\u001b[1;31mAttributeError\u001b[0m                            Traceback (most recent call last)",
      "Cell \u001b[1;32mIn[30], line 1\u001b[0m\n\u001b[1;32m----> 1\u001b[0m \u001b[43mgn\u001b[49m\u001b[38;5;241;43m.\u001b[39;49m\u001b[43mplotGraph\u001b[49m(G)\n",
      "\u001b[1;31mAttributeError\u001b[0m: module 'graspi_networkx' has no attribute 'plotGraph'"
     ]
    }
   ],
   "source": [
    " gn.plotGraph(G)"
   ]
  },
  {
   "cell_type": "code",
   "execution_count": null,
   "id": "cb09bd9f-21b9-45d5-9250-bc242b2b2ecd",
   "metadata": {},
   "outputs": [],
   "source": []
  }
 ],
 "metadata": {
  "kernelspec": {
   "display_name": "Python 3 (ipykernel)",
   "language": "python",
   "name": "python3"
  },
  "language_info": {
   "codemirror_mode": {
    "name": "ipython",
    "version": 3
   },
   "file_extension": ".py",
   "mimetype": "text/x-python",
   "name": "python",
   "nbconvert_exporter": "python",
   "pygments_lexer": "ipython3",
   "version": "3.9.13"
  }
 },
 "nbformat": 4,
 "nbformat_minor": 5
}
